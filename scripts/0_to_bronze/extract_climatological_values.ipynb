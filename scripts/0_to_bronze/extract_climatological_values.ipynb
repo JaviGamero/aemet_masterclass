{
 "cells": [
  {
   "cell_type": "markdown",
   "metadata": {
    "vscode": {
     "languageId": "plaintext"
    }
   },
   "source": [
    "# Climatological values extraction  \n",
    "Author: Javier Gamero  \n",
    "Mail: javier.gamero@lisdatasolutions.com  "
   ]
  },
  {
   "cell_type": "markdown",
   "metadata": {},
   "source": [
    "## Utils"
   ]
  },
  {
   "cell_type": "markdown",
   "metadata": {},
   "source": [
    "### Libraries"
   ]
  },
  {
   "cell_type": "code",
   "execution_count": 2,
   "metadata": {},
   "outputs": [],
   "source": [
    "import os \n",
    "import pandas as pd\n",
    "import requests \n",
    "from datetime import date, timedelta\n",
    "from dotenv import dotenv_values"
   ]
  },
  {
   "cell_type": "markdown",
   "metadata": {},
   "source": [
    "### Paths"
   ]
  },
  {
   "cell_type": "code",
   "execution_count": null,
   "metadata": {},
   "outputs": [],
   "source": [
    "ROOT = os.path.abspath(os.path.join(os.path.join(os.getcwd(), '..'), '..'))\n",
    "DATA = os.path.join(ROOT, 'data')\n",
    "BRONZE = os.path.join(DATA, 'bronze')\n",
    "\n",
    "print(f'Root directory: {ROOT}')\n",
    "print(f'Bronze directory: {BRONZE}')"
   ]
  },
  {
   "cell_type": "markdown",
   "metadata": {},
   "source": [
    "### API parameters"
   ]
  },
  {
   "cell_type": "code",
   "execution_count": 4,
   "metadata": {},
   "outputs": [],
   "source": [
    "# api key\n",
    "api_key = dotenv_values()['APIKEY']\n",
    "\n",
    "# aemet api requirements \n",
    "host = 'https://opendata.aemet.es/opendata/'\n",
    "headers = {'api_key': api_key}\n",
    "end_date = date.today().strftime(\"%Y-%m-%dT00:00:00UTC\") # today\n",
    "start_date = (date.today()- timedelta(14)).strftime(\"%Y-%m-%dT00:00:00UTC\") "
   ]
  },
  {
   "cell_type": "markdown",
   "metadata": {},
   "source": [
    "## Extraction"
   ]
  },
  {
   "cell_type": "code",
   "execution_count": null,
   "metadata": {},
   "outputs": [],
   "source": [
    "endpoint = f'api/valores/climatologicos/diarios/datos/fechaini/{start_date}/fechafin/{end_date}/todasestaciones'\n",
    "url = host + endpoint\n",
    "print(url)"
   ]
  },
  {
   "cell_type": "code",
   "execution_count": null,
   "metadata": {},
   "outputs": [],
   "source": [
    "response = requests.get(url, headers=headers)\n",
    "print(response.status_code, response.text)"
   ]
  },
  {
   "cell_type": "code",
   "execution_count": null,
   "metadata": {},
   "outputs": [],
   "source": [
    "download_url = response.json()['datos']\n",
    "print(download_url)\n",
    "\n",
    "response = requests.get(download_url)\n",
    "response.json()"
   ]
  },
  {
   "cell_type": "code",
   "execution_count": 8,
   "metadata": {},
   "outputs": [],
   "source": [
    "data = response.json()\n",
    "\n",
    "df = pd.DataFrame(data)\n",
    "df.to_parquet(os.path.join(BRONZE, f'climatological_values_{start_date}-{end_date}.parquet'))\n",
    "df.to_csv(os.path.join(BRONZE, f'climatological_values_{start_date}-{end_date}.csv'))"
   ]
  }
 ],
 "metadata": {
  "kernelspec": {
   "display_name": "env",
   "language": "python",
   "name": "python3"
  },
  "language_info": {
   "codemirror_mode": {
    "name": "ipython",
    "version": 3
   },
   "file_extension": ".py",
   "mimetype": "text/x-python",
   "name": "python",
   "nbconvert_exporter": "python",
   "pygments_lexer": "ipython3",
   "version": "3.10.12"
  }
 },
 "nbformat": 4,
 "nbformat_minor": 2
}
